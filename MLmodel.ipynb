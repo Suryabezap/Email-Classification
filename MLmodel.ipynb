{
 "cells": [
  {
   "cell_type": "code",
   "execution_count": 2,
   "id": "ed9577eb",
   "metadata": {},
   "outputs": [],
   "source": [
    "import pandas as pd\n",
    "from langdetect import detect\n",
    "from langdetect.lang_detect_exception import LangDetectException\n",
    "import re\n",
    "import nltk\n",
    "from nltk.corpus import stopwords\n",
    "from nltk.stem import PorterStemmer\n",
    "import string\n",
    "from sklearn.model_selection import train_test_split\n",
    "from sklearn.feature_extraction.text import TfidfVectorizer\n",
    "from sklearn.naive_bayes import MultinomialNB\n",
    "from sklearn.metrics import classification_report, confusion_matrix, accuracy_score\n",
    "from sklearn.pipeline import make_pipeline\n",
    "import pickle"
   ]
  },
  {
   "cell_type": "code",
   "execution_count": 3,
   "id": "8ea76e03",
   "metadata": {},
   "outputs": [],
   "source": [
    "df = pd.read_csv(\"combined_emails_with_natural_pii.csv\")\n",
    "\n",
    "# Function to detect language\n",
    "def detect_language(text):\n",
    "    try:\n",
    "        return detect(text)\n",
    "    except LangDetectException:\n",
    "        return \"unknown\"\n",
    "\n",
    "df[\"language\"] = df[\"email\"].apply(detect_language)\n",
    "\n",
    "df=df[df[\"language\"]=='en']\n",
    "df = df.reset_index(drop=True)"
   ]
  },
  {
   "cell_type": "code",
   "execution_count": 4,
   "id": "51f7ab60",
   "metadata": {},
   "outputs": [],
   "source": [
    "# Define regex patterns for PII masking\n",
    "patterns = {\n",
    "    \"email\": r\"[a-zA-Z0-9_.+-]+@[a-zA-Z0-9-]+\\.[a-zA-Z0-9-.]+\",\n",
    "    \"phone_number\": r\"\\b(?:\\+91[-\\s]?|0)?[6-9]\\d{9}\\b\",\n",
    "    \"dob\": r\"\\b(?:\\d{1,2}[-/\\s])?(?:\\d{1,2}[-/\\s])?(?:\\d{2,4})\\b\",\n",
    "    \"aadhar_num\": r\"\\b\\d{4}[\\s-]?\\d{4}[\\s-]?\\d{4}\\b\",\n",
    "    \"credit_debit_no\": r\"\\b(?:\\d{4}[\\s-]?){3}\\d{4}\\b\",\n",
    "    \"cvv_no\": r\"\\b\\d{3}\\b\",\n",
    "    \"expiry_no\": r\"\\b(0[1-9]|1[0-2])/\\d{2,4}\\b\",\n",
    "    \"full_name\": r\"\\b([A-Z][a-z]+\\s[A-Z][a-z]+)\\b\"\n",
    "}\n",
    "def mask_text(text):\n",
    "    for entity, pattern in patterns.items():\n",
    "        text = re.sub(pattern, f\"[{entity}]\", text)\n",
    "    return text\n",
    "\n",
    "df[\"masked_email\"] = df[\"email\"].apply(mask_text)\n",
    "\n",
    "stop_words = set(stopwords.words('english'))\n",
    "stemmer = PorterStemmer()\n",
    "\n",
    "def clean_and_stem(text):\n",
    "    tokens = nltk.word_tokenize(text)\n",
    "    return \" \".join([\n",
    "        stemmer.stem(word.lower()) \n",
    "        for word in tokens \n",
    "        if word.isalpha() and word.lower() not in stop_words\n",
    "    ])\n",
    "\n",
    "df[\"processed_email\"] = df[\"masked_email\"].apply(clean_and_stem)\n",
    "\n",
    "X = df[\"processed_email\"]\n",
    "y = df[\"type\"]\n",
    "\n",
    "X_train, X_test, y_train, y_test = train_test_split(X, y, test_size=0.2)\n",
    "\n",
    "pipeline = make_pipeline(\n",
    "    TfidfVectorizer(),\n",
    "    MultinomialNB()\n",
    ")\n",
    "pipeline.fit(X_train, y_train)\n",
    "\n",
    "with open(\"model.pkl\", \"wb\") as f:\n",
    "    pickle.dump(pipeline, f)"
   ]
  }
 ],
 "metadata": {
  "kernelspec": {
   "display_name": "venv",
   "language": "python",
   "name": "python3"
  },
  "language_info": {
   "codemirror_mode": {
    "name": "ipython",
    "version": 3
   },
   "file_extension": ".py",
   "mimetype": "text/x-python",
   "name": "python",
   "nbconvert_exporter": "python",
   "pygments_lexer": "ipython3",
   "version": "3.13.3"
  }
 },
 "nbformat": 4,
 "nbformat_minor": 5
}
